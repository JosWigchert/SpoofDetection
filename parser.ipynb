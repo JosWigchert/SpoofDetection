{
 "cells": [
  {
   "cell_type": "code",
   "execution_count": 1,
   "metadata": {},
   "outputs": [],
   "source": [
    "import os\n",
    "from scipy.io import loadmat\n",
    "from tqdm import tqdm\n",
    "import numpy as np\n",
    "import h5py\n",
    "\n",
    "from SpoofDetectSat import SpoofDetectSat"
   ]
  },
  {
   "cell_type": "code",
   "execution_count": 3,
   "metadata": {},
   "outputs": [
    {
     "name": "stdout",
     "output_type": "stream",
     "text": [
      "Loading Train Sattelite data...\n"
     ]
    },
    {
     "name": "stderr",
     "output_type": "stream",
     "text": [
      "100%|██████████| 5/5 [00:01<00:00,  3.70it/s]\n"
     ]
    },
    {
     "name": "stdout",
     "output_type": "stream",
     "text": [
      "Loading Calibration Sattelite data...\n",
      "Loading Calibration Ground data...\n",
      "Loading Test Sattelite data...\n",
      "Loading Test Ground data...\n"
     ]
    }
   ],
   "source": [
    "ground = [\n",
    "    \"e534cc38457b21303d1e8c4ead21567d\",\n",
    "    \"1740686fc144be577da7ea7864753ca1\",\n",
    "    \"57cd30de375eb0fb15bda56d3f357b7c\",\n",
    "    \"28d1b0ff4da1a76d6abc2d467c0f2d3f\",\n",
    "    \"4ceca7a650c974447fcf6409762cd3a6\",\n",
    "]\n",
    "\n",
    "sds = SpoofDetectSat()\n",
    "\n",
    "random_ids_1 = np.random.permutation(len(sds.aval_id))\n",
    "random_ids_2 = np.random.permutation(len(ground))\n",
    "\n",
    "sds.loadData(\n",
    "    sds.aval_id[random_ids_1[0:5]],\n",
    "    sds.aval_id[random_ids_1[-2]],\n",
    "    ground[random_ids_2[0]],\n",
    "    sds.aval_id[random_ids_1[-1]],\n",
    "    ground[random_ids_2[2]],\n",
    ")"
   ]
  },
  {
   "cell_type": "code",
   "execution_count": null,
   "metadata": {},
   "outputs": [],
   "source": []
  }
 ],
 "metadata": {
  "kernelspec": {
   "display_name": "ML",
   "language": "python",
   "name": "python3"
  },
  "language_info": {
   "codemirror_mode": {
    "name": "ipython",
    "version": 3
   },
   "file_extension": ".py",
   "mimetype": "text/x-python",
   "name": "python",
   "nbconvert_exporter": "python",
   "pygments_lexer": "ipython3",
   "version": "3.10.11"
  },
  "orig_nbformat": 4
 },
 "nbformat": 4,
 "nbformat_minor": 2
}
